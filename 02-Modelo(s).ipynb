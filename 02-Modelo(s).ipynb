{
 "cells": [
  {
   "cell_type": "code",
   "execution_count": 20,
   "id": "continental-mileage",
   "metadata": {},
   "outputs": [],
   "source": [
    "import pandas as pd\n",
    "import numpy as np\n",
    "import seaborn as sns\n",
    "import matplotlib.pyplot as plt\n",
    "import plotly.express as px\n",
    "from datetime import datetime, timedelta\n",
    "from statistics import mode \n",
    "from pprint import pprint\n",
    "from sklearn.model_selection import train_test_split\n",
    "from sklearn.ensemble import RandomForestClassifier\n",
    "from sklearn.metrics import brier_score_loss\n",
    "from sklearn.model_selection import RandomizedSearchCV"
   ]
  },
  {
   "cell_type": "markdown",
   "id": "assisted-terrorism",
   "metadata": {},
   "source": [
    "## Optimización del modelo"
   ]
  },
  {
   "cell_type": "code",
   "execution_count": 28,
   "id": "peripheral-attack",
   "metadata": {},
   "outputs": [],
   "source": [
    "data = pd.read_csv('database.csv', sep = \",\", dtype = {\"fullVisitorID\":str})"
   ]
  },
  {
   "cell_type": "code",
   "execution_count": 32,
   "id": "polish-grounds",
   "metadata": {},
   "outputs": [],
   "source": [
    "database = data.drop([\"fullVisitorID\",\"city\",\"date\"],axis = 1)"
   ]
  },
  {
   "cell_type": "code",
   "execution_count": 33,
   "id": "living-honolulu",
   "metadata": {},
   "outputs": [
    {
     "data": {
      "text/plain": [
       "Index(['visitNumber', 'bounces', 'hits', 'pageviews', 'timeOnSite',\n",
       "       'transactionRevenue', 'transactions', 'source', 'channelGrouping',\n",
       "       'browser', 'deviceCategory', 'country'],\n",
       "      dtype='object')"
      ]
     },
     "execution_count": 33,
     "metadata": {},
     "output_type": "execute_result"
    }
   ],
   "source": [
    "database.columns"
   ]
  },
  {
   "cell_type": "markdown",
   "id": "religious-ferry",
   "metadata": {},
   "source": [
    "## Modelo elegido: random forest \n",
    "\n",
    "Razón: requiero una probabilidad, por lo que usaré un algoritmo de clasificación que tenga salida del tipo probabilística. Primeramente pensé en hacer una regresión logística, pero finalmente opté por el random forest dado que hay un desbalance importante de clases y hay muchas variables categóricas que no sé si son independientes entre sí. \n",
    "\n",
    "Transformación de data para hacer el modelo:\n",
    "\n",
    "01) Variables transactions y transactionRevenue -> las reemplazo por una variable ventas (1 o 0) que es el target.\n",
    "\n",
    "02) Variables numéricas (visitNumber, bounces, hits, pageviews, timeOnSite) -> Analizo correlación para eliminar codependencia en el modelo.\n",
    "\n",
    "03) Variables categóricas('source', 'channelGrouping','browser', 'deviceCategory', 'country')-> Analizar grupos minoritarios para truncar opciones (si es posible), elegir cuáles variables incluir y cuales no,generar variables dummy.\n",
    "\n",
    "Realicé algunas variantes:\n",
    "\n",
    "01) Un modelo con todas las variables excepto el país, dado que hay muchos países con pequeñas interacciones, pero al truncar los datos la mayoría de los países quedan dentro de la categoría \"otros\".\n",
    "\n",
    "02) Analicé correlación entre variabes numéricas para ver si era posible (y mejor) quitar alguna.\n",
    "\n",
    "03) Agrego el apaís a la variación 2."
   ]
  },
  {
   "cell_type": "code",
   "execution_count": 34,
   "id": "mounted-astrology",
   "metadata": {},
   "outputs": [],
   "source": [
    "# Elimino información de transacciones y únicamente dejo si se vendió o no\n",
    "database[\"ventas\"] = 0\n",
    "database.loc[database[\"transactions\"] > 0,\"ventas\"] = 1"
   ]
  },
  {
   "cell_type": "code",
   "execution_count": 36,
   "id": "seasonal-avenue",
   "metadata": {},
   "outputs": [
    {
     "data": {
      "text/html": [
       "<div>\n",
       "<style scoped>\n",
       "    .dataframe tbody tr th:only-of-type {\n",
       "        vertical-align: middle;\n",
       "    }\n",
       "\n",
       "    .dataframe tbody tr th {\n",
       "        vertical-align: top;\n",
       "    }\n",
       "\n",
       "    .dataframe thead th {\n",
       "        text-align: right;\n",
       "    }\n",
       "</style>\n",
       "<table border=\"1\" class=\"dataframe\">\n",
       "  <thead>\n",
       "    <tr style=\"text-align: right;\">\n",
       "      <th></th>\n",
       "      <th>visitNumber</th>\n",
       "      <th>bounces</th>\n",
       "      <th>hits</th>\n",
       "      <th>pageviews</th>\n",
       "      <th>timeOnSite</th>\n",
       "    </tr>\n",
       "  </thead>\n",
       "  <tbody>\n",
       "    <tr>\n",
       "      <th>visitNumber</th>\n",
       "      <td>True</td>\n",
       "      <td>False</td>\n",
       "      <td>False</td>\n",
       "      <td>False</td>\n",
       "      <td>False</td>\n",
       "    </tr>\n",
       "    <tr>\n",
       "      <th>bounces</th>\n",
       "      <td>False</td>\n",
       "      <td>True</td>\n",
       "      <td>False</td>\n",
       "      <td>False</td>\n",
       "      <td>False</td>\n",
       "    </tr>\n",
       "    <tr>\n",
       "      <th>hits</th>\n",
       "      <td>False</td>\n",
       "      <td>False</td>\n",
       "      <td>True</td>\n",
       "      <td>True</td>\n",
       "      <td>False</td>\n",
       "    </tr>\n",
       "    <tr>\n",
       "      <th>pageviews</th>\n",
       "      <td>False</td>\n",
       "      <td>False</td>\n",
       "      <td>True</td>\n",
       "      <td>True</td>\n",
       "      <td>False</td>\n",
       "    </tr>\n",
       "    <tr>\n",
       "      <th>timeOnSite</th>\n",
       "      <td>False</td>\n",
       "      <td>False</td>\n",
       "      <td>False</td>\n",
       "      <td>False</td>\n",
       "      <td>True</td>\n",
       "    </tr>\n",
       "  </tbody>\n",
       "</table>\n",
       "</div>"
      ],
      "text/plain": [
       "             visitNumber  bounces   hits  pageviews  timeOnSite\n",
       "visitNumber         True    False  False      False       False\n",
       "bounces            False     True  False      False       False\n",
       "hits               False    False   True       True       False\n",
       "pageviews          False    False   True       True       False\n",
       "timeOnSite         False    False  False      False        True"
      ]
     },
     "execution_count": 36,
     "metadata": {},
     "output_type": "execute_result"
    }
   ],
   "source": [
    "# Correlación de variables numéricas\n",
    "# Calculo la matriz de correlación, para eliminar aquellas variables correlacionadas antes de hacer el modelo\n",
    "database[[\"visitNumber\",\"bounces\",\"hits\",\"pageviews\",\"timeOnSite\"]].corr()>0.75"
   ]
  },
  {
   "cell_type": "markdown",
   "id": "interstate-inspector",
   "metadata": {},
   "source": [
    "#### Análisis de variables categóricas "
   ]
  },
  {
   "cell_type": "markdown",
   "id": "sitting-shopper",
   "metadata": {},
   "source": [
    "Source, browser y country tienen muchas categorías muy poco frecuentes.\n",
    "En el caso de source y de browser, agrupo entradas similares (ej: opera miny y opera) y elimino aquellos valores  pocos frecuentes (el numero usado fue elegido a partir de los datos).\n"
   ]
  },
  {
   "cell_type": "code",
   "execution_count": 42,
   "id": "mobile-prediction",
   "metadata": {},
   "outputs": [],
   "source": [
    "# Source\n",
    "database.loc[database[\"source\"].apply(lambda x: (\"google\" in x) and (\"analytics\" not in x)),\"source\"] = \"google\"\n",
    "database.loc[database[\"source\"].apply(lambda x: (\"yahoo\" in x)),\"source\"] = \"yahoo\"\n",
    "database.loc[database[\"source\"].apply(lambda x: (\"facebook\" in x)),\"source\"] = \"facebook\"\n",
    "\n",
    "a = database[\"source\"].value_counts().reset_index()\n",
    "a = a[a[\"source\"]<500][\"index\"].to_list()\n",
    "database.loc[database[\"source\"].apply(lambda x: x in a ),\"source\"] = \"other\"\n",
    "\n",
    "# Browser\n",
    "database.loc[database[\"browser\"].apply(lambda x: (\"Safari\" in x) and (\"analytics\" not in x)),\"browser\"] = \"Safari\"\n",
    "database.loc[database[\"browser\"].apply(lambda x: (\"Opera\" in x)),\"browser\"] = \"Opera\"\n",
    "database.loc[database[\"browser\"].apply(lambda x: (\"Android\" in x)),\"browser\"] = \"Android\"\n",
    "\n",
    "a = database[\"browser\"].value_counts().reset_index()\n",
    "a = a[a[\"browser\"]<900][\"index\"].to_list()\n",
    "database.loc[database[\"browser\"].apply(lambda x: x in a ),\"browser\"] = \"other\""
   ]
  },
  {
   "cell_type": "markdown",
   "id": "apart-marshall",
   "metadata": {},
   "source": [
    "### Modelo A -> no incluyo el país"
   ]
  },
  {
   "cell_type": "code",
   "execution_count": 90,
   "id": "political-functionality",
   "metadata": {},
   "outputs": [],
   "source": [
    "# DataSet con variables a usar\n",
    "data = database[['visitNumber', 'bounces', \"pageviews\",'hits', 'timeOnSite',\n",
    "       'transactionRevenue', 'transactions', 'source', 'channelGrouping',\n",
    "       'browser', 'deviceCategory', 'ventas']]"
   ]
  },
  {
   "cell_type": "code",
   "execution_count": 91,
   "id": "great-essence",
   "metadata": {},
   "outputs": [
    {
     "name": "stderr",
     "output_type": "stream",
     "text": [
      "/home/mariano/.pyenv/versions/3.8.1/envs/ds/lib/python3.8/site-packages/pandas/core/series.py:4460: SettingWithCopyWarning: \n",
      "A value is trying to be set on a copy of a slice from a DataFrame\n",
      "\n",
      "See the caveats in the documentation: https://pandas.pydata.org/pandas-docs/stable/user_guide/indexing.html#returning-a-view-versus-a-copy\n",
      "  return super().fillna(\n"
     ]
    }
   ],
   "source": [
    "data.fillna({'pageviews' : 0}, inplace = True)"
   ]
  },
  {
   "cell_type": "code",
   "execution_count": 92,
   "id": "covered-renewal",
   "metadata": {},
   "outputs": [],
   "source": [
    "# Genero variables dummy\n",
    "data=pd.get_dummies(data,drop_first=True,columns=[\"source\",\"browser\",\"deviceCategory\",\"channelGrouping\"])"
   ]
  },
  {
   "cell_type": "code",
   "execution_count": 93,
   "id": "humanitarian-person",
   "metadata": {},
   "outputs": [],
   "source": [
    "X = data[['visitNumber', 'bounces', 'hits', \"pageviews\",'timeOnSite', 'transactionRevenue',\n",
    "       'transactions', 'source_Partners',\n",
    "       'source_analytics.google.com', 'source_baidu', 'source_bing',\n",
    "       'source_dfa', 'source_facebook', 'source_google', 'source_other',\n",
    "       'source_qiita.com', 'source_quora.com', 'source_reddit.com',\n",
    "       'source_siliconvalley.about.com', 'source_t.co', 'source_yahoo',\n",
    "       'source_youtube.com', 'browser_Chrome', 'browser_Edge',\n",
    "       'browser_Firefox', 'browser_Internet Explorer', 'browser_Opera',\n",
    "       'browser_Safari', 'browser_UC Browser', 'browser_YaBrowser',\n",
    "       'browser_other', 'deviceCategory_mobile', 'deviceCategory_tablet',\n",
    "       'channelGrouping_Affiliates', 'channelGrouping_Direct',\n",
    "       'channelGrouping_Display', 'channelGrouping_Organic Search',\n",
    "       'channelGrouping_Paid Search', 'channelGrouping_Referral',\n",
    "       'channelGrouping_Social']]\n",
    "\n",
    "y = data[\"ventas\"]"
   ]
  },
  {
   "cell_type": "code",
   "execution_count": 94,
   "id": "ready-undergraduate",
   "metadata": {},
   "outputs": [],
   "source": [
    "X_train, X_test, y_train, y_test = train_test_split(X, y, test_size=0.5, random_state=42)"
   ]
  },
  {
   "cell_type": "code",
   "execution_count": 95,
   "id": "emerging-macintosh",
   "metadata": {},
   "outputs": [],
   "source": [
    "# Genero el primer modelo, sin modificar hiperparámetros \n",
    "rdf1 = RandomForestClassifier()"
   ]
  },
  {
   "cell_type": "code",
   "execution_count": 96,
   "id": "everyday-reconstruction",
   "metadata": {},
   "outputs": [],
   "source": [
    "# Entreno \n",
    "rdf1.fit(X_train, y_train)\n",
    "\n",
    "# Predicciones\n",
    "predicciones = rdf1.predict_proba(X_test)[:,1]"
   ]
  },
  {
   "cell_type": "code",
   "execution_count": 1,
   "id": "major-charity",
   "metadata": {},
   "outputs": [
    {
     "ename": "NameError",
     "evalue": "name 'brier_score_loss' is not defined",
     "output_type": "error",
     "traceback": [
      "\u001b[0;31m---------------------------------------------------------------------------\u001b[0m",
      "\u001b[0;31mNameError\u001b[0m                                 Traceback (most recent call last)",
      "\u001b[0;32m<ipython-input-1-bedf397dc465>\u001b[0m in \u001b[0;36m<module>\u001b[0;34m\u001b[0m\n\u001b[1;32m      1\u001b[0m \u001b[0;31m# Como métrica utilizo la Puntuación de Brier\u001b[0m\u001b[0;34m\u001b[0m\u001b[0;34m\u001b[0m\u001b[0;34m\u001b[0m\u001b[0m\n\u001b[1;32m      2\u001b[0m \u001b[0;31m# https://scikit-learn.org/stable/modules/generated/sklearn.metrics.brier_score_loss.html#sklearn.metrics.brier_score_loss\u001b[0m\u001b[0;34m\u001b[0m\u001b[0;34m\u001b[0m\u001b[0;34m\u001b[0m\u001b[0m\n\u001b[0;32m----> 3\u001b[0;31m \u001b[0mbrier_score_loss\u001b[0m\u001b[0;34m(\u001b[0m\u001b[0my_test\u001b[0m\u001b[0;34m,\u001b[0m\u001b[0mpredicciones\u001b[0m\u001b[0;34m)\u001b[0m\u001b[0;34m\u001b[0m\u001b[0;34m\u001b[0m\u001b[0m\n\u001b[0m",
      "\u001b[0;31mNameError\u001b[0m: name 'brier_score_loss' is not defined"
     ]
    }
   ],
   "source": [
    "# Como métrica utilizo la Puntuación de Brier\n",
    "# https://scikit-learn.org/stable/modules/generated/sklearn.metrics.brier_score_loss.html#sklearn.metrics.brier_score_loss\n",
    "brier_score_loss(y_test,predicciones)"
   ]
  },
  {
   "cell_type": "markdown",
   "id": "immediate-capacity",
   "metadata": {},
   "source": [
    "### Modelo C -> incluyo el país"
   ]
  },
  {
   "cell_type": "code",
   "execution_count": 65,
   "id": "prostate-loading",
   "metadata": {},
   "outputs": [],
   "source": [
    "# Elimino países con menos visitas que el 1% de los datos totales\n",
    "a = database[\"country\"].value_counts().reset_index()\n",
    "a = a[a[\"country\"]<350][\"index\"].to_list()\n",
    "database.loc[database[\"country\"].apply(lambda x: x in a ),\"country\"] = \"other\""
   ]
  },
  {
   "cell_type": "code",
   "execution_count": 69,
   "id": "completed-running",
   "metadata": {},
   "outputs": [],
   "source": [
    "# DataSet con variables a usar\n",
    "data2 = database[['visitNumber', 'bounces', 'hits', 'timeOnSite',\n",
    "       'transactionRevenue', 'transactions', 'source', 'channelGrouping',\n",
    "       'browser', 'deviceCategory','country', 'ventas']]"
   ]
  },
  {
   "cell_type": "code",
   "execution_count": 70,
   "id": "cognitive-interpretation",
   "metadata": {},
   "outputs": [],
   "source": [
    "# Genero variables dummy\n",
    "data2=pd.get_dummies(data2,drop_first=True,columns=[\"source\",\"browser\",\"deviceCategory\",\"channelGrouping\",\"country\"])"
   ]
  },
  {
   "cell_type": "code",
   "execution_count": 76,
   "id": "proved-speaker",
   "metadata": {},
   "outputs": [],
   "source": [
    "y2 = data[\"ventas\"]\n",
    "X2 = data.drop(\"ventas\", axis = 1)"
   ]
  },
  {
   "cell_type": "code",
   "execution_count": 77,
   "id": "rapid-investor",
   "metadata": {},
   "outputs": [],
   "source": [
    "X2_train, X2_test, y2_train, y2_test = train_test_split(X2, y2, test_size=0.5, random_state=42)"
   ]
  },
  {
   "cell_type": "code",
   "execution_count": 78,
   "id": "polar-costa",
   "metadata": {},
   "outputs": [],
   "source": [
    "# Genero el primer modelo, sin modificar hiperparámetros \n",
    "rdf2 = RandomForestClassifier()"
   ]
  },
  {
   "cell_type": "code",
   "execution_count": 79,
   "id": "peaceful-stephen",
   "metadata": {},
   "outputs": [],
   "source": [
    "# Entreno \n",
    "rdf2.fit(X2_train, y2_train)\n",
    "\n",
    "# Predicciones\n",
    "predicciones2 = rdf2.predict_proba(X2_test)[:,1]"
   ]
  },
  {
   "cell_type": "code",
   "execution_count": 80,
   "id": "otherwise-stephen",
   "metadata": {},
   "outputs": [
    {
     "data": {
      "text/plain": [
       "2.570308282763573e-06"
      ]
     },
     "execution_count": 80,
     "metadata": {},
     "output_type": "execute_result"
    }
   ],
   "source": [
    "# Como métrica utilizo el Coeficiente Brier\n",
    "brier_score_loss(y2_test,predicciones2)"
   ]
  },
  {
   "cell_type": "markdown",
   "id": "suited-lodge",
   "metadata": {},
   "source": [
    "### Genero una optimización de hiperparámetros usando RandomSeach en rdf2"
   ]
  },
  {
   "cell_type": "code",
   "execution_count": 99,
   "id": "wound-plane",
   "metadata": {},
   "outputs": [
    {
     "name": "stdout",
     "output_type": "stream",
     "text": [
      "Fitting 3 folds for each of 50 candidates, totalling 150 fits\n"
     ]
    },
    {
     "data": {
      "text/plain": [
       "RandomizedSearchCV(cv=3, estimator=RandomForestClassifier(), n_iter=50,\n",
       "                   n_jobs=-1,\n",
       "                   param_distributions={'bootstrap': [True, False],\n",
       "                                        'max_depth': [10, 20, 30, 40, 50, 60,\n",
       "                                                      70, 80, 90, 100, 110,\n",
       "                                                      None],\n",
       "                                        'max_features': ['auto', 'sqrt'],\n",
       "                                        'min_samples_leaf': [1, 2, 4],\n",
       "                                        'min_samples_split': [2, 5, 10],\n",
       "                                        'n_estimators': [200, 400, 600, 800,\n",
       "                                                         1000, 1200, 1400, 1600,\n",
       "                                                         1800, 2000]},\n",
       "                   random_state=42, scoring='neg_brier_score', verbose=10)"
      ]
     },
     "execution_count": 99,
     "metadata": {},
     "output_type": "execute_result"
    }
   ],
   "source": [
    "rf_random = RandomizedSearchCV(estimator = rdf2, param_distributions = random_grid, n_iter = 50, scoring = 'neg_brier_score',cv = 3, verbose=10, random_state=42, n_jobs = -1)\n",
    "\n",
    "rf_random.fit(X_train, y_train)"
   ]
  },
  {
   "cell_type": "code",
   "execution_count": 100,
   "id": "weird-excuse",
   "metadata": {},
   "outputs": [
    {
     "data": {
      "text/plain": [
       "-2.6303825968545243e-06"
      ]
     },
     "execution_count": 100,
     "metadata": {},
     "output_type": "execute_result"
    }
   ],
   "source": [
    "rf_random.best_score_"
   ]
  },
  {
   "cell_type": "code",
   "execution_count": 101,
   "id": "balanced-initial",
   "metadata": {},
   "outputs": [
    {
     "data": {
      "text/plain": [
       "RandomForestClassifier(bootstrap=False, max_depth=100, max_features='sqrt',\n",
       "                       min_samples_split=5, n_estimators=800)"
      ]
     },
     "execution_count": 101,
     "metadata": {},
     "output_type": "execute_result"
    }
   ],
   "source": [
    "rf_random.best_estimator_"
   ]
  },
  {
   "cell_type": "code",
   "execution_count": 102,
   "id": "legislative-interim",
   "metadata": {},
   "outputs": [],
   "source": [
    "rdf2b = RandomForestClassifier(bootstrap=False, max_depth=100, max_features='sqrt',\n",
    "                       min_samples_split=5, n_estimators=800)"
   ]
  },
  {
   "cell_type": "code",
   "execution_count": 103,
   "id": "smoking-chester",
   "metadata": {},
   "outputs": [
    {
     "data": {
      "text/plain": [
       "RandomForestClassifier(bootstrap=False, max_depth=100, max_features='sqrt',\n",
       "                       min_samples_split=5, n_estimators=800)"
      ]
     },
     "execution_count": 103,
     "metadata": {},
     "output_type": "execute_result"
    }
   ],
   "source": [
    "rdf2b.fit(X_train, y_train)"
   ]
  },
  {
   "cell_type": "code",
   "execution_count": 104,
   "id": "lightweight-religion",
   "metadata": {},
   "outputs": [],
   "source": [
    "probas2 = rdf2b.predict_proba(X_test)[:,1]"
   ]
  },
  {
   "cell_type": "code",
   "execution_count": 105,
   "id": "checked-intellectual",
   "metadata": {},
   "outputs": [
    {
     "data": {
      "text/plain": [
       "1.7698085165601543e-06"
      ]
     },
     "execution_count": 105,
     "metadata": {},
     "output_type": "execute_result"
    }
   ],
   "source": [
    "brier_score_loss(y_test,probas2)"
   ]
  },
  {
   "cell_type": "code",
   "execution_count": 106,
   "id": "nuclear-bangladesh",
   "metadata": {},
   "outputs": [
    {
     "name": "stdout",
     "output_type": "stream",
     "text": [
      "Fitting 4 folds for each of 100 candidates, totalling 400 fits\n"
     ]
    },
    {
     "data": {
      "text/plain": [
       "RandomizedSearchCV(cv=4, estimator=RandomForestClassifier(), n_iter=100,\n",
       "                   n_jobs=-1,\n",
       "                   param_distributions={'bootstrap': [True, False],\n",
       "                                        'max_depth': [10, 20, 30, 40, 50, 60,\n",
       "                                                      70, 80, 90, 100, 110,\n",
       "                                                      None],\n",
       "                                        'max_features': ['auto', 'sqrt'],\n",
       "                                        'min_samples_leaf': [1, 2, 4],\n",
       "                                        'min_samples_split': [2, 5, 10],\n",
       "                                        'n_estimators': [200, 400, 600, 800,\n",
       "                                                         1000, 1200, 1400, 1600,\n",
       "                                                         1800, 2000]},\n",
       "                   random_state=42, scoring='neg_brier_score', verbose=10)"
      ]
     },
     "execution_count": 106,
     "metadata": {},
     "output_type": "execute_result"
    }
   ],
   "source": [
    "# Hago random más largo, ya la mejora anterior fue buena, pero aprovecho y le doy rosca\n",
    "rf_random2 = RandomizedSearchCV(estimator = rdf2, param_distributions = random_grid, n_iter = 100, scoring = 'neg_brier_score',cv = 4, verbose=10, random_state=42, n_jobs = -1)\n",
    "\n",
    "rf_random2.fit(X_train, y_train)"
   ]
  },
  {
   "cell_type": "code",
   "execution_count": 109,
   "id": "korean-cause",
   "metadata": {},
   "outputs": [
    {
     "data": {
      "text/plain": [
       "-2.284982421325635e-06"
      ]
     },
     "execution_count": 109,
     "metadata": {},
     "output_type": "execute_result"
    }
   ],
   "source": [
    "rf_random2.best_score_"
   ]
  },
  {
   "cell_type": "code",
   "execution_count": 110,
   "id": "pacific-privacy",
   "metadata": {},
   "outputs": [
    {
     "data": {
      "text/plain": [
       "RandomForestClassifier(bootstrap=False, max_depth=80, max_features='sqrt',\n",
       "                       min_samples_split=5, n_estimators=1400)"
      ]
     },
     "execution_count": 110,
     "metadata": {},
     "output_type": "execute_result"
    }
   ],
   "source": [
    "rf_random2.best_estimator_"
   ]
  },
  {
   "cell_type": "code",
   "execution_count": 111,
   "id": "forced-farmer",
   "metadata": {},
   "outputs": [],
   "source": [
    "rdfbest = rf_random2.best_estimator_"
   ]
  },
  {
   "cell_type": "code",
   "execution_count": 112,
   "id": "weird-february",
   "metadata": {},
   "outputs": [
    {
     "data": {
      "text/plain": [
       "RandomForestClassifier(bootstrap=False, max_depth=80, max_features='sqrt',\n",
       "                       min_samples_split=5, n_estimators=1400)"
      ]
     },
     "execution_count": 112,
     "metadata": {},
     "output_type": "execute_result"
    }
   ],
   "source": [
    "rdfbest.fit(X_train, y_train)"
   ]
  },
  {
   "cell_type": "code",
   "execution_count": 113,
   "id": "close-galaxy",
   "metadata": {},
   "outputs": [],
   "source": [
    "probas4 = rdfbest.predict_proba(X_test)[:,1]"
   ]
  },
  {
   "cell_type": "code",
   "execution_count": 115,
   "id": "unknown-kingdom",
   "metadata": {},
   "outputs": [
    {
     "data": {
      "text/plain": [
       "1.8755656021180322e-06"
      ]
     },
     "execution_count": 115,
     "metadata": {},
     "output_type": "execute_result"
    }
   ],
   "source": [
    "brier_score_loss(y_test,probas4)"
   ]
  }
 ],
 "metadata": {
  "kernelspec": {
   "display_name": "Python 3",
   "language": "python",
   "name": "python3"
  },
  "language_info": {
   "codemirror_mode": {
    "name": "ipython",
    "version": 3
   },
   "file_extension": ".py",
   "mimetype": "text/x-python",
   "name": "python",
   "nbconvert_exporter": "python",
   "pygments_lexer": "ipython3",
   "version": "3.8.1"
  }
 },
 "nbformat": 4,
 "nbformat_minor": 5
}
